{
 "cells": [
  {
   "cell_type": "code",
   "execution_count": 1,
   "metadata": {},
   "outputs": [],
   "source": [
    "import selenium\n",
    "import time\n",
    "import datetime\n",
    "import pynput\n",
    "from selenium import webdriver\n",
    "from selenium.webdriver.common.by import By\n",
    "from selenium.webdriver.support.ui import WebDriverWait\n",
    "from selenium.webdriver.common.keys import Keys\n",
    "from selenium.webdriver.common.action_chains import ActionChains\n",
    "from selenium.webdriver.support import expected_conditions as EC\n",
    "from pynput.keyboard import Key, Controller\n",
    "\n",
    "#Navigate to Page and Login\n",
    "driver = webdriver.Firefox(executable_path = '/usr/local/bin/geckodriver')\n",
    "driver.get(\"https://apps.es.vt.edu/StudentRegistrationSsb/ssb/classRegistration/classRegistration\")\n",
    "driver.find_element_by_xpath('//*[@id=\"username\"]').send_keys(\"kylepapili\")\n",
    "driver.find_element_by_xpath('//*[@id=\"password\"]').send_keys(\"\")\n",
    "driver.find_element_by_xpath('/html/body/main/div/form/fieldset/div[3]/button').click()"
   ]
  },
  {
   "cell_type": "code",
   "execution_count": 2,
   "metadata": {},
   "outputs": [],
   "source": [
    "time.sleep(11)\n",
    "driver.find_element_by_xpath('/html/body/main/div[2]/div[2]/div/div/ul/li[2]/a/span[1]').click()\n",
    "driver.find_element_by_xpath('//*[@id=\"select2-chosen-1\"]').click()\n",
    "driver.find_element_by_xpath('//*[@id=\"s2id_autogen1_search\"]').send_keys(\"Spring 2020\")\n",
    "time.sleep(1)\n",
    "driver.find_element_by_xpath('//*[@id=\"s2id_autogen1_search\"]').send_keys(Keys.ENTER)\n",
    "driver.find_element_by_xpath('//*[@id=\"term-go\"]').click()\n",
    "time.sleep(2)"
   ]
  },
  {
   "cell_type": "code",
   "execution_count": 3,
   "metadata": {},
   "outputs": [],
   "source": [
    "driver.find_element_by_xpath('/html/body/header/div[2]/div[2]/div/ul[2]/li/div[2]/button').click()\n",
    "driver.find_element_by_xpath('/html/body/main/div[3]/div/div[2]/div/div[1]/div/div[1]/div[3]/div[1]/div/fieldset/div[1]/p/div[1]/ul').click()\n",
    "time.sleep(1)\n",
    "driver.find_element_by_xpath('//*[@id=\"s2id_autogen1\"]').send_keys(\"Physics\")\n",
    "time.sleep(1)\n",
    "driver.find_element_by_xpath('//*[@id=\"s2id_autogen1\"]').send_keys(Keys.ENTER)\n",
    "driver.find_element_by_xpath('//*[@id=\"txt_courseNumber\"]').send_keys(\"2305\")\n",
    "driver.find_element_by_xpath('//*[@id=\"txt_keywordlike\"]').send_keys(\"18278\")\n",
    "driver.find_element_by_xpath('//*[@id=\"search-go\"]').click()\n",
    "time.sleep(5)"
   ]
  },
  {
   "cell_type": "code",
   "execution_count": 4,
   "metadata": {},
   "outputs": [],
   "source": [
    "driver.find_element_by_xpath('//*[@id=\"addSection20200118278\"]').click()\n",
    "fromEl = driver.find_element_by_xpath('/html/body/main/div[8]/div/span/div[2]')\n",
    "toEl = driver.find_element_by_xpath('//*[@id=\"tabbuttons\"]')\n",
    "ActionChains(driver).drag_and_drop(fromEl, toEl).perform()\n",
    "driver.find_element_by_xpath('//*[@id=\"select2-chosen-41\"]').click()\n",
    "time.sleep(1)\n",
    "keyboard = Controller()\n",
    "keyboard.press(Key.down)\n",
    "keyboard.press(Key.enter)\n",
    "time.sleep(1)\n",
    "driver.find_element_by_xpath('/html/body/main/div[6]/div[2]/label').click()\n",
    "driver.find_element_by_xpath('//*[@id=\"saveButton\"]').click()"
   ]
  },
  {
   "cell_type": "code",
   "execution_count": null,
   "metadata": {},
   "outputs": [],
   "source": []
  },
  {
   "cell_type": "code",
   "execution_count": null,
   "metadata": {},
   "outputs": [],
   "source": []
  }
 ],
 "metadata": {
  "kernelspec": {
   "display_name": "automation",
   "language": "python",
   "name": "automation"
  },
  "language_info": {
   "codemirror_mode": {
    "name": "ipython",
    "version": 3
   },
   "file_extension": ".py",
   "mimetype": "text/x-python",
   "name": "python",
   "nbconvert_exporter": "python",
   "pygments_lexer": "ipython3",
   "version": "3.7.2"
  }
 },
 "nbformat": 4,
 "nbformat_minor": 2
}
