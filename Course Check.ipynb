{
 "cells": [
  {
   "cell_type": "code",
   "execution_count": 1,
   "metadata": {},
   "outputs": [],
   "source": [
    "import selenium\n",
    "import time\n",
    "import datetime\n",
    "import pynput\n",
    "from selenium import webdriver\n",
    "from selenium.webdriver.common.by import By\n",
    "from selenium.webdriver.support.ui import WebDriverWait\n",
    "from selenium.webdriver.common.keys import Keys\n",
    "from selenium.webdriver.common.action_chains import ActionChains\n",
    "from selenium.webdriver.support import expected_conditions as EC\n",
    "from pynput.keyboard import Key, Controller\n",
    "\n",
    "#Navigate to Page\n",
    "driver = webdriver.Firefox(executable_path = '/usr/local/bin/geckodriver')\n",
    "driver.get(\"https://banweb.banner.vt.edu/ssb/prod/HZSKVTSC.P_DispRequest\")\n",
    "keyboard = Controller()"
   ]
  },
  {
   "cell_type": "code",
   "execution_count": 2,
   "metadata": {},
   "outputs": [],
   "source": [
    "def addCourse():\n",
    "    \n",
    "    keyboard = Controller()\n",
    "    \n",
    "    #Navigate to Page and Login\n",
    "    driver = webdriver.Firefox(executable_path = '/usr/local/bin/geckodriver')\n",
    "    driver.get(\"https://apps.es.vt.edu/StudentRegistrationSsb/ssb/classRegistration/classRegistration\")\n",
    "    driver.find_element_by_xpath('//*[@id=\"username\"]').send_keys(\"kylepapili\")\n",
    "    driver.find_element_by_xpath('//*[@id=\"password\"]').send_keys(\"\")\n",
    "    driver.find_element_by_xpath('/html/body/main/div/form/fieldset/div[3]/button').click()\n",
    "    \n",
    "    time.sleep(20)\n",
    "    driver.find_element_by_xpath('/html/body/main/div[2]/div[2]/div/div/ul/li[2]/a/span[1]').click()\n",
    "    driver.find_element_by_xpath('//*[@id=\"select2-chosen-1\"]').click()\n",
    "    driver.find_element_by_xpath('//*[@id=\"s2id_autogen1_search\"]').send_keys(\"Spring 2020\")\n",
    "    time.sleep(1)\n",
    "    driver.find_element_by_xpath('//*[@id=\"s2id_autogen1_search\"]').send_keys(Keys.ENTER)\n",
    "    driver.find_element_by_xpath('//*[@id=\"term-go\"]').click()\n",
    "    time.sleep(2)\n",
    "    \n",
    "    keyboard.press(Key.enter)\n",
    "    driver.find_element_by_xpath('/html/body/main/div[3]/div/div[2]/div/div[1]/div/div[1]/div[3]/div[1]/div/fieldset/div[1]/p/div[1]/ul').click()\n",
    "    time.sleep(1)\n",
    "    driver.find_element_by_xpath('//*[@id=\"s2id_autogen1\"]').send_keys(\"Physics\")\n",
    "    time.sleep(1)\n",
    "    driver.find_element_by_xpath('//*[@id=\"s2id_autogen1\"]').send_keys(Keys.ENTER)\n",
    "    driver.find_element_by_xpath('//*[@id=\"txt_courseNumber\"]').send_keys(\"2305\")\n",
    "    driver.find_element_by_xpath('//*[@id=\"txt_keywordlike\"]').send_keys(\"18278\")\n",
    "    driver.find_element_by_xpath('//*[@id=\"search-go\"]').click()\n",
    "    time.sleep(5)\n",
    "    \n",
    "    driver.find_element_by_xpath('//*[@id=\"addSection20200118278\"]').click()\n",
    "    fromEl = driver.find_element_by_xpath('/html/body/main/div[8]/div/span/div[2]')\n",
    "    toEl = driver.find_element_by_xpath('//*[@id=\"tabbuttons\"]')\n",
    "    ActionChains(driver).drag_and_drop(fromEl, toEl).perform()\n",
    "    driver.find_element_by_xpath('//*[@id=\"select2-chosen-41\"]').click()\n",
    "    time.sleep(1)\n",
    "    keyboard.press(Key.down)\n",
    "    keyboard.press(Key.enter)\n",
    "    time.sleep(1)\n",
    "    driver.find_element_by_xpath('/html/body/main/div[6]/div[2]/label').click()\n",
    "    driver.find_element_by_xpath('//*[@id=\"saveButton\"]').click()\n",
    "    time.sleep(5)\n",
    "    message = driver.find_element_by_xpath('/html/body/header/div[2]/div[2]/div/ul[3]/li/div/a')\n",
    "    if(message.text == \"Unable to make requested changes so your schedule was not changed.\"):\n",
    "        return \"failed\"\n",
    "    else:\n",
    "        return \"success\"\n",
    "    "
   ]
  },
  {
   "cell_type": "code",
   "execution_count": 3,
   "metadata": {},
   "outputs": [],
   "source": [
    "driver.find_element_by_xpath('/html/body/div/center/form/table/tbody/tr[4]/td[1]/select').click() #Course Find List\n",
    "driver.find_element_by_xpath('/html/body/div/center/form/table/tbody/tr[4]/td[1]/select/option[120]').click() #PHYS\n",
    "driver.find_element_by_xpath('/html/body/div/center/form/table/tbody/tr[6]/td[1]/input').send_keys('2305') #Course Num\n",
    "driver.find_element_by_xpath('/html/body/div/center/form/table/tbody/tr[6]/td[2]/input').send_keys('18278') #CRN\n",
    "driver.find_element_by_xpath('/html/body/div/center/form/table/tbody/tr[6]/td[3]/select').click() #Section Selector\n",
    "driver.find_element_by_xpath('/html/body/div/center/form/table/tbody/tr[6]/td[3]/select/option[2]').click() #Open Sections Only\n",
    "driver.find_element_by_xpath('/html/body/div/center/form/table/tbody/tr[2]/td[2]/select/option[2]').click() #Spring 2020\n"
   ]
  },
  {
   "cell_type": "code",
   "execution_count": null,
   "metadata": {},
   "outputs": [
    {
     "name": "stdout",
     "output_type": "stream",
     "text": [
      "course closed\n",
      "COURSE FOUND\n",
      "ADDING COURSE NOW\n",
      "failed to add\n",
      "COURSE FOUND\n",
      "ADDING COURSE NOW\n",
      "failed to add\n",
      "course closed\n",
      "course closed\n",
      "course closed\n",
      "course closed\n",
      "course closed\n",
      "course closed\n",
      "course closed\n",
      "course closed\n",
      "course closed\n",
      "course closed\n",
      "course closed\n",
      "course closed\n",
      "course closed\n",
      "course closed\n",
      "course closed\n",
      "course closed\n",
      "course closed\n",
      "course closed\n",
      "course closed\n",
      "course closed\n",
      "course closed\n",
      "course closed\n",
      "course closed\n"
     ]
    }
   ],
   "source": [
    "while True:\n",
    "    driver.find_element_by_xpath('/html/body/div/center/form/table/tbody/tr[8]/td/center/input[1]').click() #Search\n",
    "    try:\n",
    "        error = driver.find_element_by_xpath('/html/body/center/div/table[3]/tbody/tr/td/li')\n",
    "        #The course was NOT found\n",
    "        print(\"course closed\")\n",
    "        print(time.time())\n",
    "        time.sleep(5)\n",
    "    except:\n",
    "        #Course FOUND\n",
    "        print(\"COURSE FOUND\")\n",
    "        print(\"ADDING COURSE NOW\")\n",
    "        print(time.time())\n",
    "        status = addCourse()\n",
    "        if status == \"success\":\n",
    "            print(\"success\")\n",
    "            print(time.time())\n",
    "            break\n",
    "        else:\n",
    "            print(\"failed to add\")\n",
    "            print(time.time())"
   ]
  },
  {
   "cell_type": "code",
   "execution_count": null,
   "metadata": {},
   "outputs": [],
   "source": [
    "addCourse()"
   ]
  },
  {
   "cell_type": "code",
   "execution_count": null,
   "metadata": {},
   "outputs": [],
   "source": []
  },
  {
   "cell_type": "code",
   "execution_count": null,
   "metadata": {},
   "outputs": [],
   "source": []
  }
 ],
 "metadata": {
  "kernelspec": {
   "display_name": "automation",
   "language": "python",
   "name": "automation"
  },
  "language_info": {
   "codemirror_mode": {
    "name": "ipython",
    "version": 3
   },
   "file_extension": ".py",
   "mimetype": "text/x-python",
   "name": "python",
   "nbconvert_exporter": "python",
   "pygments_lexer": "ipython3",
   "version": "3.7.2"
  }
 },
 "nbformat": 4,
 "nbformat_minor": 2
}
